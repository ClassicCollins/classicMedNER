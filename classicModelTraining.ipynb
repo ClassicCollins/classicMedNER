{
 "cells": [
  {
   "cell_type": "markdown",
   "id": "301e32bb",
   "metadata": {},
   "source": [
    "# Named Entity Recognition"
   ]
  },
  {
   "cell_type": "markdown",
   "id": "176ad713",
   "metadata": {},
   "source": [
    "### Data were extracted from 3 XML files. Converted to IOB format, tokenized & trained with tensorflow.keras"
   ]
  },
  {
   "cell_type": "code",
   "execution_count": 1,
   "id": "028d363b",
   "metadata": {},
   "outputs": [],
   "source": [
    "try: \n",
    "    import livelossplot\n",
    "except:\n",
    "    !pip install livelossplot\n",
    "    import livelossplot\n",
    "from livelossplot.tf_keras import PlotLossesCallback\n",
    "import pandas as pd\n",
    "import numpy as np\n",
    "import matplotlib.pyplot as plt\n",
    "%matplotlib inline\n",
    "np.random.seed(0)\n",
    "import xml.etree.ElementTree as ET\n",
    "import nltk\n",
    "from nltk.tokenize import word_tokenize,sent_tokenize\n",
    "import sklearn\n",
    "from sklearn.metrics import classification_report\n",
    "from sklearn.model_selection import train_test_split\n",
    "from tensorflow.keras.callbacks import ModelCheckpoint, EarlyStopping\n",
    "from tensorflow.keras.preprocessing.sequence import pad_sequences\n",
    "from tensorflow.keras.utils import to_categorical\n",
    "from tensorflow.keras import Model,Input\n",
    "from tensorflow.keras.layers import LSTM,Embedding,Dense\n",
    "from tensorflow.keras.layers import TimeDistributed, SpatialDropout1D,Bidirectional\n",
    "import tensorflow as tf\n",
    "import warnings\n",
    "warnings.filterwarnings('ignore')"
   ]
  },
  {
   "cell_type": "markdown",
   "id": "be8149f9",
   "metadata": {},
   "source": [
    "### Loading the Dataset and IOB Formatting"
   ]
  },
  {
   "cell_type": "code",
   "execution_count": 2,
   "id": "7fdd72f9",
   "metadata": {
    "scrolled": false
   },
   "outputs": [],
   "source": [
    "def extract_xml(xml_doc):\n",
    "    tree = ET.parse(xml_doc)\n",
    "    root = tree.getroot()\n",
    "    text = root.find('TEXT').text\n",
    "    tags = root.findall('TAGS/*')\n",
    "\n",
    "    # Create IOB format\n",
    "    iob_tags = []\n",
    "    for word in word_tokenize(text):\n",
    "        # Initialize tag as outside entity (O)\n",
    "        tag = 'O'\n",
    "        # Check if word matches any tags\n",
    "        for t in tags:\n",
    "             if int(t.attrib['start']) <= text.find(word) < int(t.attrib['end']):\n",
    "                # Identify tag type\n",
    "                tag_type = t.attrib['TYPE']\n",
    "                # Identify tag class (B)\n",
    "                if tag == 'O':\n",
    "                    tag = 'B-' + tag_type\n",
    "        iob_tags.append(tag)\n",
    "    #Identify tag class (I)    \n",
    "    for j in range(len(iob_tags)):\n",
    "        if iob_tags[j] == iob_tags[j-1] and iob_tags[j] != 'O':\n",
    "            iob_tags[j]= \"I-\"+iob_tags[j].lower()\n",
    "            \n",
    "\n",
    "    #Print IOB format\n",
    "    word_data = []\n",
    "    tag_data = []\n",
    "    sentence = []\n",
    "    count = 1\n",
    "    #Print words and tags\n",
    "    for word, tag in zip(word_tokenize(text), iob_tags):\n",
    "        word_data.append(word)\n",
    "        tag_data.append(tag)\n",
    "    #Print sentence numbers\n",
    "    for text in word_data:\n",
    "        sentence.append(f\"Sentence: {str(count)}\")\n",
    "        if text == \".\":\n",
    "          count += 1\n",
    "    #store in DataFrames\n",
    "    df = pd.DataFrame([sentence,word_data, tag_data]).T\n",
    "    df.columns = ['sentence_no',\"words\", \"tags\"]\n",
    "    return df"
   ]
  },
  {
   "cell_type": "code",
   "execution_count": 3,
   "id": "5e379aed",
   "metadata": {},
   "outputs": [],
   "source": [
    "a = extract_xml(xml_doc='file1.xml')\n",
    "df1 = pd.DataFrame(a)\n",
    "b = extract_xml(xml_doc = 'file2.xml')\n",
    "df2 = pd.DataFrame(b)\n",
    "c = extract_xml(xml_doc = 'file3.xml')\n",
    "df3 = pd.DataFrame(c)\n",
    "\n",
    "data = pd.concat([df3,df2,df1], ignore_index=True)"
   ]
  },
  {
   "cell_type": "code",
   "execution_count": 4,
   "id": "78a802f9",
   "metadata": {},
   "outputs": [
    {
     "data": {
      "text/html": [
       "<div>\n",
       "<style scoped>\n",
       "    .dataframe tbody tr th:only-of-type {\n",
       "        vertical-align: middle;\n",
       "    }\n",
       "\n",
       "    .dataframe tbody tr th {\n",
       "        vertical-align: top;\n",
       "    }\n",
       "\n",
       "    .dataframe thead th {\n",
       "        text-align: right;\n",
       "    }\n",
       "</style>\n",
       "<table border=\"1\" class=\"dataframe\">\n",
       "  <thead>\n",
       "    <tr style=\"text-align: right;\">\n",
       "      <th></th>\n",
       "      <th>sentence_no</th>\n",
       "      <th>words</th>\n",
       "      <th>tags</th>\n",
       "    </tr>\n",
       "  </thead>\n",
       "  <tbody>\n",
       "    <tr>\n",
       "      <th>0</th>\n",
       "      <td>Sentence: 1</td>\n",
       "      <td>Record</td>\n",
       "      <td>O</td>\n",
       "    </tr>\n",
       "    <tr>\n",
       "      <th>1</th>\n",
       "      <td>Sentence: 1</td>\n",
       "      <td>date</td>\n",
       "      <td>O</td>\n",
       "    </tr>\n",
       "    <tr>\n",
       "      <th>2</th>\n",
       "      <td>Sentence: 1</td>\n",
       "      <td>:</td>\n",
       "      <td>O</td>\n",
       "    </tr>\n",
       "    <tr>\n",
       "      <th>3</th>\n",
       "      <td>Sentence: 1</td>\n",
       "      <td>2109-09-14</td>\n",
       "      <td>B-DATE</td>\n",
       "    </tr>\n",
       "    <tr>\n",
       "      <th>4</th>\n",
       "      <td>Sentence: 1</td>\n",
       "      <td>September</td>\n",
       "      <td>I-b-date</td>\n",
       "    </tr>\n",
       "    <tr>\n",
       "      <th>5</th>\n",
       "      <td>Sentence: 1</td>\n",
       "      <td>14</td>\n",
       "      <td>B-DATE</td>\n",
       "    </tr>\n",
       "    <tr>\n",
       "      <th>6</th>\n",
       "      <td>Sentence: 1</td>\n",
       "      <td>,</td>\n",
       "      <td>I-b-date</td>\n",
       "    </tr>\n",
       "    <tr>\n",
       "      <th>7</th>\n",
       "      <td>Sentence: 1</td>\n",
       "      <td>2109</td>\n",
       "      <td>B-DATE</td>\n",
       "    </tr>\n",
       "    <tr>\n",
       "      <th>8</th>\n",
       "      <td>Sentence: 1</td>\n",
       "      <td>Vicente</td>\n",
       "      <td>B-DOCTOR</td>\n",
       "    </tr>\n",
       "    <tr>\n",
       "      <th>9</th>\n",
       "      <td>Sentence: 1</td>\n",
       "      <td>Blair</td>\n",
       "      <td>I-b-doctor</td>\n",
       "    </tr>\n",
       "  </tbody>\n",
       "</table>\n",
       "</div>"
      ],
      "text/plain": [
       "   sentence_no       words        tags\n",
       "0  Sentence: 1      Record           O\n",
       "1  Sentence: 1        date           O\n",
       "2  Sentence: 1           :           O\n",
       "3  Sentence: 1  2109-09-14      B-DATE\n",
       "4  Sentence: 1   September    I-b-date\n",
       "5  Sentence: 1          14      B-DATE\n",
       "6  Sentence: 1           ,    I-b-date\n",
       "7  Sentence: 1        2109      B-DATE\n",
       "8  Sentence: 1     Vicente    B-DOCTOR\n",
       "9  Sentence: 1       Blair  I-b-doctor"
      ]
     },
     "execution_count": 4,
     "metadata": {},
     "output_type": "execute_result"
    }
   ],
   "source": [
    "data.head(10)"
   ]
  },
  {
   "cell_type": "code",
   "execution_count": 5,
   "id": "e0ae6106",
   "metadata": {},
   "outputs": [
    {
     "data": {
      "text/plain": [
       "Sentence: 2     137\n",
       "Sentence: 10    108\n",
       "Sentence: 3      87\n",
       "Sentence: 22     79\n",
       "Sentence: 24     68\n",
       "               ... \n",
       "Sentence: 41      2\n",
       "Sentence: 42      2\n",
       "Sentence: 43      2\n",
       "Sentence: 69      2\n",
       "Sentence: 79      2\n",
       "Name: sentence_no, Length: 90, dtype: int64"
      ]
     },
     "execution_count": 5,
     "metadata": {},
     "output_type": "execute_result"
    }
   ],
   "source": [
    "data.sentence_no.value_counts()"
   ]
  },
  {
   "cell_type": "code",
   "execution_count": 6,
   "id": "fad62b45",
   "metadata": {
    "scrolled": true
   },
   "outputs": [
    {
     "data": {
      "text/plain": [
       "(2644, 3)"
      ]
     },
     "execution_count": 6,
     "metadata": {},
     "output_type": "execute_result"
    }
   ],
   "source": [
    "data.shape"
   ]
  },
  {
   "cell_type": "code",
   "execution_count": 7,
   "id": "36a0cf43",
   "metadata": {},
   "outputs": [
    {
     "data": {
      "text/plain": [
       "array(['O', 'B-DATE', 'I-b-date', 'B-DOCTOR', 'I-b-doctor', 'B-HOSPITAL',\n",
       "       'I-b-hospital', 'B-CITY', 'B-STATE', 'B-ZIP', 'B-PATIENT',\n",
       "       'B-MEDICALRECORD', 'I-b-patient', 'B-AGE', 'B-PROFESSION',\n",
       "       'I-b-profession', 'B-IDNUM', 'I-b-idnum', 'B-USERNAME', 'B-STREET',\n",
       "       'I-b-street', 'B-ORGANIZATION', 'I-b-organization'], dtype=object)"
      ]
     },
     "execution_count": 7,
     "metadata": {},
     "output_type": "execute_result"
    }
   ],
   "source": [
    "data.tags.unique()"
   ]
  },
  {
   "cell_type": "code",
   "execution_count": 8,
   "id": "4a0cd288",
   "metadata": {},
   "outputs": [
    {
     "data": {
      "text/plain": [
       "sentence_no    0\n",
       "words          0\n",
       "tags           0\n",
       "dtype: int64"
      ]
     },
     "execution_count": 8,
     "metadata": {},
     "output_type": "execute_result"
    }
   ],
   "source": [
    "data.isnull().sum()"
   ]
  },
  {
   "cell_type": "code",
   "execution_count": 9,
   "id": "2195f3fc",
   "metadata": {},
   "outputs": [
    {
     "name": "stdout",
     "output_type": "stream",
     "text": [
      "<class 'pandas.core.frame.DataFrame'>\n",
      "RangeIndex: 2644 entries, 0 to 2643\n",
      "Data columns (total 3 columns):\n",
      " #   Column       Non-Null Count  Dtype \n",
      "---  ------       --------------  ----- \n",
      " 0   sentence_no  2644 non-null   object\n",
      " 1   words        2644 non-null   object\n",
      " 2   tags         2644 non-null   object\n",
      "dtypes: object(3)\n",
      "memory usage: 62.1+ KB\n"
     ]
    }
   ],
   "source": [
    "data.info()"
   ]
  },
  {
   "cell_type": "code",
   "execution_count": 10,
   "id": "b2666943",
   "metadata": {
    "scrolled": true
   },
   "outputs": [
    {
     "data": {
      "text/plain": [
       "O                   2322\n",
       "B-DATE               112\n",
       "B-PATIENT             71\n",
       "B-HOSPITAL            53\n",
       "B-DOCTOR              14\n",
       "B-AGE                  9\n",
       "I-b-doctor             9\n",
       "B-ZIP                  8\n",
       "I-b-hospital           7\n",
       "I-b-patient            6\n",
       "I-b-date               5\n",
       "B-CITY                 5\n",
       "B-STREET               4\n",
       "B-MEDICALRECORD        3\n",
       "B-STATE                3\n",
       "B-PROFESSION           2\n",
       "I-b-profession         2\n",
       "B-IDNUM                2\n",
       "B-USERNAME             2\n",
       "I-b-street             2\n",
       "I-b-idnum              1\n",
       "B-ORGANIZATION         1\n",
       "I-b-organization       1\n",
       "Name: tags, dtype: int64"
      ]
     },
     "execution_count": 10,
     "metadata": {},
     "output_type": "execute_result"
    }
   ],
   "source": [
    "data['tags'].value_counts() #Not balanced"
   ]
  },
  {
   "cell_type": "code",
   "execution_count": 11,
   "id": "57159bb3",
   "metadata": {},
   "outputs": [
    {
     "data": {
      "text/plain": [
       "23"
      ]
     },
     "execution_count": 11,
     "metadata": {},
     "output_type": "execute_result"
    }
   ],
   "source": [
    "len(data['tags'].value_counts())"
   ]
  },
  {
   "cell_type": "code",
   "execution_count": 12,
   "id": "a3ebc5c0",
   "metadata": {},
   "outputs": [],
   "source": [
    "agg_func = lambda s:[(a, b) for a,b in zip(s[\"words\"].values.tolist(),s['tags'].values.tolist())]"
   ]
  },
  {
   "cell_type": "code",
   "execution_count": 13,
   "id": "609db8f0",
   "metadata": {
    "scrolled": true
   },
   "outputs": [
    {
     "data": {
      "text/html": [
       "<div>\n",
       "<style scoped>\n",
       "    .dataframe tbody tr th:only-of-type {\n",
       "        vertical-align: middle;\n",
       "    }\n",
       "\n",
       "    .dataframe tbody tr th {\n",
       "        vertical-align: top;\n",
       "    }\n",
       "\n",
       "    .dataframe thead th {\n",
       "        text-align: right;\n",
       "    }\n",
       "</style>\n",
       "<table border=\"1\" class=\"dataframe\">\n",
       "  <thead>\n",
       "    <tr style=\"text-align: right;\">\n",
       "      <th></th>\n",
       "      <th>sentence_no</th>\n",
       "      <th>word_tag_pair</th>\n",
       "    </tr>\n",
       "  </thead>\n",
       "  <tbody>\n",
       "    <tr>\n",
       "      <th>0</th>\n",
       "      <td>Sentence: 1</td>\n",
       "      <td>[(Record, O), (date, O), (:, O), (2109-09-14, ...</td>\n",
       "    </tr>\n",
       "    <tr>\n",
       "      <th>1</th>\n",
       "      <td>Sentence: 10</td>\n",
       "      <td>[(Mr., O), (Valdez, B-PATIENT), (underwent, O)...</td>\n",
       "    </tr>\n",
       "    <tr>\n",
       "      <th>2</th>\n",
       "      <td>Sentence: 11</td>\n",
       "      <td>[(In, O), (addition, O), (,, B-DATE), (loud, O...</td>\n",
       "    </tr>\n",
       "    <tr>\n",
       "      <th>3</th>\n",
       "      <td>Sentence: 12</td>\n",
       "      <td>[(There, O), (was, O), (evidence, O), (of, O),...</td>\n",
       "    </tr>\n",
       "    <tr>\n",
       "      <th>4</th>\n",
       "      <td>Sentence: 13</td>\n",
       "      <td>[(There, O), (was, O), (a, O), (predominance, ...</td>\n",
       "    </tr>\n",
       "  </tbody>\n",
       "</table>\n",
       "</div>"
      ],
      "text/plain": [
       "    sentence_no                                      word_tag_pair\n",
       "0   Sentence: 1  [(Record, O), (date, O), (:, O), (2109-09-14, ...\n",
       "1  Sentence: 10  [(Mr., O), (Valdez, B-PATIENT), (underwent, O)...\n",
       "2  Sentence: 11  [(In, O), (addition, O), (,, B-DATE), (loud, O...\n",
       "3  Sentence: 12  [(There, O), (was, O), (evidence, O), (of, O),...\n",
       "4  Sentence: 13  [(There, O), (was, O), (a, O), (predominance, ..."
      ]
     },
     "execution_count": 13,
     "metadata": {},
     "output_type": "execute_result"
    }
   ],
   "source": [
    "agg_data=data.groupby(['sentence_no']).apply(agg_func).reset_index().rename(columns={0:'word_tag_pair'})\n",
    "agg_data.head()"
   ]
  },
  {
   "cell_type": "code",
   "execution_count": 14,
   "id": "8c59b5fe",
   "metadata": {},
   "outputs": [],
   "source": [
    "agg_data['sentence']=agg_data['word_tag_pair'].apply(lambda sentence:\" \".join([s[0] for s in sentence]))\n",
    "agg_data['tags']=agg_data['word_tag_pair'].apply(lambda sentence:\" \".join([s[1] for s in sentence]))"
   ]
  },
  {
   "cell_type": "code",
   "execution_count": 15,
   "id": "0ddee818",
   "metadata": {},
   "outputs": [
    {
     "data": {
      "text/plain": [
       "(90, 4)"
      ]
     },
     "execution_count": 15,
     "metadata": {},
     "output_type": "execute_result"
    }
   ],
   "source": [
    "agg_data.shape"
   ]
  },
  {
   "cell_type": "code",
   "execution_count": 16,
   "id": "f0d091a2",
   "metadata": {},
   "outputs": [
    {
     "data": {
      "text/html": [
       "<div>\n",
       "<style scoped>\n",
       "    .dataframe tbody tr th:only-of-type {\n",
       "        vertical-align: middle;\n",
       "    }\n",
       "\n",
       "    .dataframe tbody tr th {\n",
       "        vertical-align: top;\n",
       "    }\n",
       "\n",
       "    .dataframe thead th {\n",
       "        text-align: right;\n",
       "    }\n",
       "</style>\n",
       "<table border=\"1\" class=\"dataframe\">\n",
       "  <thead>\n",
       "    <tr style=\"text-align: right;\">\n",
       "      <th></th>\n",
       "      <th>sentence_no</th>\n",
       "      <th>word_tag_pair</th>\n",
       "      <th>sentence</th>\n",
       "      <th>tags</th>\n",
       "    </tr>\n",
       "  </thead>\n",
       "  <tbody>\n",
       "    <tr>\n",
       "      <th>0</th>\n",
       "      <td>Sentence: 1</td>\n",
       "      <td>[(Record, O), (date, O), (:, O), (2109-09-14, ...</td>\n",
       "      <td>Record date : 2109-09-14 September 14 , 2109 V...</td>\n",
       "      <td>O O O B-DATE I-b-date B-DATE I-b-date B-DATE B...</td>\n",
       "    </tr>\n",
       "    <tr>\n",
       "      <th>1</th>\n",
       "      <td>Sentence: 10</td>\n",
       "      <td>[(Mr., O), (Valdez, B-PATIENT), (underwent, O)...</td>\n",
       "      <td>Mr. Valdez underwent an initial formal polysom...</td>\n",
       "      <td>O B-PATIENT O B-PATIENT O O O O O O O O O O O ...</td>\n",
       "    </tr>\n",
       "    <tr>\n",
       "      <th>2</th>\n",
       "      <td>Sentence: 11</td>\n",
       "      <td>[(In, O), (addition, O), (,, B-DATE), (loud, O...</td>\n",
       "      <td>In addition , loud snoring was noted . REVIEW ...</td>\n",
       "      <td>O O B-DATE O O O O O O O O O O O O O O B-PATIE...</td>\n",
       "    </tr>\n",
       "    <tr>\n",
       "      <th>3</th>\n",
       "      <td>Sentence: 12</td>\n",
       "      <td>[(There, O), (was, O), (evidence, O), (of, O),...</td>\n",
       "      <td>There was evidence of a sleep efficiency of 88...</td>\n",
       "      <td>O O O O O O O O O O O O O O O O O B-DATE O O O...</td>\n",
       "    </tr>\n",
       "    <tr>\n",
       "      <th>4</th>\n",
       "      <td>Sentence: 13</td>\n",
       "      <td>[(There, O), (was, O), (a, O), (predominance, ...</td>\n",
       "      <td>There was a predominance of `` light '' non-RE...</td>\n",
       "      <td>O O O O O O O O O O O O B-DATE O O O O B-HOSPI...</td>\n",
       "    </tr>\n",
       "  </tbody>\n",
       "</table>\n",
       "</div>"
      ],
      "text/plain": [
       "    sentence_no                                      word_tag_pair  \\\n",
       "0   Sentence: 1  [(Record, O), (date, O), (:, O), (2109-09-14, ...   \n",
       "1  Sentence: 10  [(Mr., O), (Valdez, B-PATIENT), (underwent, O)...   \n",
       "2  Sentence: 11  [(In, O), (addition, O), (,, B-DATE), (loud, O...   \n",
       "3  Sentence: 12  [(There, O), (was, O), (evidence, O), (of, O),...   \n",
       "4  Sentence: 13  [(There, O), (was, O), (a, O), (predominance, ...   \n",
       "\n",
       "                                            sentence  \\\n",
       "0  Record date : 2109-09-14 September 14 , 2109 V...   \n",
       "1  Mr. Valdez underwent an initial formal polysom...   \n",
       "2  In addition , loud snoring was noted . REVIEW ...   \n",
       "3  There was evidence of a sleep efficiency of 88...   \n",
       "4  There was a predominance of `` light '' non-RE...   \n",
       "\n",
       "                                                tags  \n",
       "0  O O O B-DATE I-b-date B-DATE I-b-date B-DATE B...  \n",
       "1  O B-PATIENT O B-PATIENT O O O O O O O O O O O ...  \n",
       "2  O O B-DATE O O O O O O O O O O O O O O B-PATIE...  \n",
       "3  O O O O O O O O O O O O O O O O O B-DATE O O O...  \n",
       "4  O O O O O O O O O O O O B-DATE O O O O B-HOSPI...  "
      ]
     },
     "execution_count": 16,
     "metadata": {},
     "output_type": "execute_result"
    }
   ],
   "source": [
    "agg_data.head()"
   ]
  },
  {
   "cell_type": "code",
   "execution_count": 17,
   "id": "88387042",
   "metadata": {},
   "outputs": [
    {
     "data": {
      "text/html": [
       "<div>\n",
       "<style scoped>\n",
       "    .dataframe tbody tr th:only-of-type {\n",
       "        vertical-align: middle;\n",
       "    }\n",
       "\n",
       "    .dataframe tbody tr th {\n",
       "        vertical-align: top;\n",
       "    }\n",
       "\n",
       "    .dataframe thead th {\n",
       "        text-align: right;\n",
       "    }\n",
       "</style>\n",
       "<table border=\"1\" class=\"dataframe\">\n",
       "  <thead>\n",
       "    <tr style=\"text-align: right;\">\n",
       "      <th></th>\n",
       "      <th>sentence_no</th>\n",
       "      <th>word_tag_pair</th>\n",
       "      <th>sentence</th>\n",
       "      <th>tags</th>\n",
       "      <th>tokenised_sentences</th>\n",
       "      <th>tag_list</th>\n",
       "    </tr>\n",
       "  </thead>\n",
       "  <tbody>\n",
       "    <tr>\n",
       "      <th>0</th>\n",
       "      <td>Sentence: 1</td>\n",
       "      <td>[(Record, O), (date, O), (:, O), (2109-09-14, ...</td>\n",
       "      <td>Record date : 2109-09-14 September 14 , 2109 V...</td>\n",
       "      <td>O O O B-DATE I-b-date B-DATE I-b-date B-DATE B...</td>\n",
       "      <td>[Record, date, :, 2109-09-14, September, 14, ,...</td>\n",
       "      <td>[O, O, O, B-DATE, I-b-date, B-DATE, I-b-date, ...</td>\n",
       "    </tr>\n",
       "    <tr>\n",
       "      <th>1</th>\n",
       "      <td>Sentence: 10</td>\n",
       "      <td>[(Mr., O), (Valdez, B-PATIENT), (underwent, O)...</td>\n",
       "      <td>Mr. Valdez underwent an initial formal polysom...</td>\n",
       "      <td>O B-PATIENT O B-PATIENT O O O O O O O O O O O ...</td>\n",
       "      <td>[Mr., Valdez, underwent, an, initial, formal, ...</td>\n",
       "      <td>[O, B-PATIENT, O, B-PATIENT, O, O, O, O, O, O,...</td>\n",
       "    </tr>\n",
       "    <tr>\n",
       "      <th>2</th>\n",
       "      <td>Sentence: 11</td>\n",
       "      <td>[(In, O), (addition, O), (,, B-DATE), (loud, O...</td>\n",
       "      <td>In addition , loud snoring was noted . REVIEW ...</td>\n",
       "      <td>O O B-DATE O O O O O O O O O O O O O O B-PATIE...</td>\n",
       "      <td>[In, addition, ,, loud, snoring, was, noted, ....</td>\n",
       "      <td>[O, O, B-DATE, O, O, O, O, O, O, O, O, O, O, O...</td>\n",
       "    </tr>\n",
       "    <tr>\n",
       "      <th>3</th>\n",
       "      <td>Sentence: 12</td>\n",
       "      <td>[(There, O), (was, O), (evidence, O), (of, O),...</td>\n",
       "      <td>There was evidence of a sleep efficiency of 88...</td>\n",
       "      <td>O O O O O O O O O O O O O O O O O B-DATE O O O...</td>\n",
       "      <td>[There, was, evidence, of, a, sleep, efficienc...</td>\n",
       "      <td>[O, O, O, O, O, O, O, O, O, O, O, O, O, O, O, ...</td>\n",
       "    </tr>\n",
       "    <tr>\n",
       "      <th>4</th>\n",
       "      <td>Sentence: 13</td>\n",
       "      <td>[(There, O), (was, O), (a, O), (predominance, ...</td>\n",
       "      <td>There was a predominance of `` light '' non-RE...</td>\n",
       "      <td>O O O O O O O O O O O O B-DATE O O O O B-HOSPI...</td>\n",
       "      <td>[There, was, a, predominance, of, ``, light, '...</td>\n",
       "      <td>[O, O, O, O, O, O, O, O, O, O, O, O, B-DATE, O...</td>\n",
       "    </tr>\n",
       "  </tbody>\n",
       "</table>\n",
       "</div>"
      ],
      "text/plain": [
       "    sentence_no                                      word_tag_pair  \\\n",
       "0   Sentence: 1  [(Record, O), (date, O), (:, O), (2109-09-14, ...   \n",
       "1  Sentence: 10  [(Mr., O), (Valdez, B-PATIENT), (underwent, O)...   \n",
       "2  Sentence: 11  [(In, O), (addition, O), (,, B-DATE), (loud, O...   \n",
       "3  Sentence: 12  [(There, O), (was, O), (evidence, O), (of, O),...   \n",
       "4  Sentence: 13  [(There, O), (was, O), (a, O), (predominance, ...   \n",
       "\n",
       "                                            sentence  \\\n",
       "0  Record date : 2109-09-14 September 14 , 2109 V...   \n",
       "1  Mr. Valdez underwent an initial formal polysom...   \n",
       "2  In addition , loud snoring was noted . REVIEW ...   \n",
       "3  There was evidence of a sleep efficiency of 88...   \n",
       "4  There was a predominance of `` light '' non-RE...   \n",
       "\n",
       "                                                tags  \\\n",
       "0  O O O B-DATE I-b-date B-DATE I-b-date B-DATE B...   \n",
       "1  O B-PATIENT O B-PATIENT O O O O O O O O O O O ...   \n",
       "2  O O B-DATE O O O O O O O O O O O O O O B-PATIE...   \n",
       "3  O O O O O O O O O O O O O O O O O B-DATE O O O...   \n",
       "4  O O O O O O O O O O O O B-DATE O O O O B-HOSPI...   \n",
       "\n",
       "                                 tokenised_sentences  \\\n",
       "0  [Record, date, :, 2109-09-14, September, 14, ,...   \n",
       "1  [Mr., Valdez, underwent, an, initial, formal, ...   \n",
       "2  [In, addition, ,, loud, snoring, was, noted, ....   \n",
       "3  [There, was, evidence, of, a, sleep, efficienc...   \n",
       "4  [There, was, a, predominance, of, ``, light, '...   \n",
       "\n",
       "                                            tag_list  \n",
       "0  [O, O, O, B-DATE, I-b-date, B-DATE, I-b-date, ...  \n",
       "1  [O, B-PATIENT, O, B-PATIENT, O, O, O, O, O, O,...  \n",
       "2  [O, O, B-DATE, O, O, O, O, O, O, O, O, O, O, O...  \n",
       "3  [O, O, O, O, O, O, O, O, O, O, O, O, O, O, O, ...  \n",
       "4  [O, O, O, O, O, O, O, O, O, O, O, O, B-DATE, O...  "
      ]
     },
     "execution_count": 17,
     "metadata": {},
     "output_type": "execute_result"
    }
   ],
   "source": [
    "agg_data['tokenised_sentences']=agg_data['sentence'].apply(lambda x:x.split())\n",
    "agg_data['tag_list']=agg_data['tags'].apply(lambda x:x.split())\n",
    "agg_data.head()"
   ]
  },
  {
   "cell_type": "code",
   "execution_count": 18,
   "id": "28d79ea6",
   "metadata": {},
   "outputs": [
    {
     "data": {
      "text/plain": [
       "1    90\n",
       "Name: is_equal, dtype: int64"
      ]
     },
     "execution_count": 18,
     "metadata": {},
     "output_type": "execute_result"
    }
   ],
   "source": [
    "agg_data['len_sentence']=agg_data['tokenised_sentences'].apply(lambda x:len(x))\n",
    "agg_data['len_tag']=agg_data['tag_list'].apply(lambda x:len(x))\n",
    "agg_data['is_equal']=agg_data.apply(lambda row:1 if row['len_sentence']==row['len_tag'] else 0,axis=1)\n",
    "agg_data['is_equal'].value_counts()"
   ]
  },
  {
   "cell_type": "code",
   "execution_count": 19,
   "id": "a1cce00e",
   "metadata": {},
   "outputs": [
    {
     "data": {
      "text/plain": [
       "(90, 9)"
      ]
     },
     "execution_count": 19,
     "metadata": {},
     "output_type": "execute_result"
    }
   ],
   "source": [
    "agg_data.shape"
   ]
  },
  {
   "cell_type": "code",
   "execution_count": 20,
   "id": "927c8763",
   "metadata": {
    "scrolled": false
   },
   "outputs": [
    {
     "name": "stdout",
     "output_type": "stream",
     "text": [
      "Number of Sentences in the Data:  90\n",
      "Are number of Sentences and Tag list equal:  True\n"
     ]
    }
   ],
   "source": [
    "sentences_list=agg_data['tokenised_sentences'].tolist()\n",
    "tags_list=agg_data['tag_list'].tolist()\n",
    "\n",
    "print(\"Number of Sentences in the Data: \",len(sentences_list))\n",
    "print(\"Are number of Sentences and Tag list equal: \",len(sentences_list)==len(tags_list))"
   ]
  },
  {
   "cell_type": "code",
   "execution_count": 21,
   "id": "ba882720",
   "metadata": {},
   "outputs": [
    {
     "data": {
      "text/plain": [
       "True"
      ]
     },
     "execution_count": 21,
     "metadata": {},
     "output_type": "execute_result"
    }
   ],
   "source": [
    "#Checks\n",
    "len(sentences_list[15]) == len(tags_list[15])"
   ]
  },
  {
   "cell_type": "code",
   "execution_count": 22,
   "id": "04eb6496",
   "metadata": {},
   "outputs": [
    {
     "data": {
      "text/plain": [
       "True"
      ]
     },
     "execution_count": 22,
     "metadata": {},
     "output_type": "execute_result"
    }
   ],
   "source": [
    "len(sentences_list[50]) == len(tags_list[50])"
   ]
  },
  {
   "cell_type": "code",
   "execution_count": 23,
   "id": "3f58d003",
   "metadata": {
    "scrolled": true
   },
   "outputs": [
    {
     "data": {
      "text/plain": [
       "True"
      ]
     },
     "execution_count": 23,
     "metadata": {},
     "output_type": "execute_result"
    }
   ],
   "source": [
    "len(sentences_list[30]) == len(tags_list[30])"
   ]
  },
  {
   "cell_type": "code",
   "execution_count": 24,
   "id": "6d376b44",
   "metadata": {},
   "outputs": [
    {
     "data": {
      "text/plain": [
       "True"
      ]
     },
     "execution_count": 24,
     "metadata": {},
     "output_type": "execute_result"
    }
   ],
   "source": [
    "len(sentences_list[0]) == len(tags_list[0]) # Collins you are good to build"
   ]
  },
  {
   "cell_type": "markdown",
   "id": "f224ee3e",
   "metadata": {},
   "source": [
    "### Building The Model"
   ]
  },
  {
   "cell_type": "code",
   "execution_count": 25,
   "id": "649a7567",
   "metadata": {},
   "outputs": [],
   "source": [
    "tokeniser= tf.keras.preprocessing.text.Tokenizer(lower=False,filters='')\n",
    "tokeniser.fit_on_texts(sentences_list)"
   ]
  },
  {
   "cell_type": "code",
   "execution_count": 26,
   "id": "4c649b5d",
   "metadata": {},
   "outputs": [
    {
     "name": "stdout",
     "output_type": "stream",
     "text": [
      "Vocabulary size of Tokeniser  900\n"
     ]
    }
   ],
   "source": [
    "print(\"Vocabulary size of Tokeniser \",len(tokeniser.word_index)+1) # Adding one since 0 is reserved for padding"
   ]
  },
  {
   "cell_type": "code",
   "execution_count": 27,
   "id": "d6abed5a",
   "metadata": {},
   "outputs": [
    {
     "data": {
      "text/plain": [
       "'The'"
      ]
     },
     "execution_count": 27,
     "metadata": {},
     "output_type": "execute_result"
    }
   ],
   "source": [
    "tokeniser.index_word[15]"
   ]
  },
  {
   "cell_type": "code",
   "execution_count": 28,
   "id": "efd1422c",
   "metadata": {},
   "outputs": [
    {
     "name": "stdout",
     "output_type": "stream",
     "text": [
      "First Original Sentence: \n",
      " ['Record', 'date', ':', '2109-09-14', 'September', '14', ',', '2109', 'Vicente', 'Blair', ',', 'M.D', '.', 'Record', 'date', ':', '2108-03-14', 'CAMPBELL', 'EMERGENCY', 'DEPT', 'VISIT', 'VALDEZ', ',', 'HARLAN', ',', 'JR', '.', 'Record', 'date', ':', '2106-02-12', 'Campbell', 'Orthopedic', 'Associates', '4', 'Madera', 'Circle', 'Omak', ',', 'GA', '28172', 'Habib', 'Valenzuela', ',', 'M.D', '.']\n",
      "First Encoded Sentence:\n",
      " [117, 118, 12, 349, 350, 351, 2, 352, 186, 353, 2, 35, 1, 117, 118, 12, 354, 355, 356, 357, 119, 187, 2, 358, 2, 359, 1, 117, 118, 12, 360, 361, 362, 363, 88, 364, 365, 120, 2, 188, 366, 121, 122, 2, 35, 1]\n",
      "Is Length of Original Sentence Same as Encoded Sentence:  True\n",
      "Length of First Sentence:  46\n"
     ]
    }
   ],
   "source": [
    "encoded_sentence=tokeniser.texts_to_sequences(sentences_list)\n",
    "print(\"First Original Sentence: \\n\", sentences_list[0])\n",
    "print(\"First Encoded Sentence:\\n\", encoded_sentence[0])\n",
    "print(\"Is Length of Original Sentence Same as Encoded Sentence: \",len(sentences_list[0])==len(encoded_sentence[0]))\n",
    "print(\"Length of First Sentence: \", len(encoded_sentence[0]))"
   ]
  },
  {
   "cell_type": "code",
   "execution_count": 29,
   "id": "d08d2d5f",
   "metadata": {
    "scrolled": true
   },
   "outputs": [
    {
     "name": "stdout",
     "output_type": "stream",
     "text": [
      "['B-ZIP', 'I-b-street', 'I-b-patient', 'B-MEDICALRECORD', 'B-IDNUM', 'I-b-idnum', 'I-b-hospital', 'I-b-profession', 'B-STATE', 'B-AGE', 'B-HOSPITAL', 'B-USERNAME', 'B-ORGANIZATION', 'B-STREET', 'O', 'B-CITY', 'B-DATE', 'B-PATIENT', 'I-b-date', 'B-DOCTOR', 'I-b-doctor', 'I-b-organization', 'B-PROFESSION']\n"
     ]
    }
   ],
   "source": [
    "tags=list(set(data[\"tags\"].values))\n",
    "print(tags)"
   ]
  },
  {
   "cell_type": "code",
   "execution_count": 30,
   "id": "801ec6d5",
   "metadata": {},
   "outputs": [
    {
     "name": "stdout",
     "output_type": "stream",
     "text": [
      "Number of Tags:  23\n"
     ]
    }
   ],
   "source": [
    "num_tags=len(tags)\n",
    "print(\"Number of Tags: \",num_tags)"
   ]
  },
  {
   "cell_type": "code",
   "execution_count": 31,
   "id": "7b533249",
   "metadata": {
    "scrolled": true
   },
   "outputs": [
    {
     "name": "stdout",
     "output_type": "stream",
     "text": [
      "Tags Map:  {'B-ZIP': 0, 'I-b-street': 1, 'I-b-patient': 2, 'B-MEDICALRECORD': 3, 'B-IDNUM': 4, 'I-b-idnum': 5, 'I-b-hospital': 6, 'I-b-profession': 7, 'B-STATE': 8, 'B-AGE': 9, 'B-HOSPITAL': 10, 'B-USERNAME': 11, 'B-ORGANIZATION': 12, 'B-STREET': 13, 'O': 14, 'B-CITY': 15, 'B-DATE': 16, 'B-PATIENT': 17, 'I-b-date': 18, 'B-DOCTOR': 19, 'I-b-doctor': 20, 'I-b-organization': 21, 'B-PROFESSION': 22}\n"
     ]
    }
   ],
   "source": [
    "tags_map={tag:i for i,tag in enumerate(tags)}\n",
    "print(\"Tags Map: \",tags_map)"
   ]
  },
  {
   "cell_type": "code",
   "execution_count": 32,
   "id": "8737ac14",
   "metadata": {},
   "outputs": [],
   "source": [
    "reverse_tag_map={v: k for k, v in tags_map.items()}"
   ]
  },
  {
   "cell_type": "code",
   "execution_count": 33,
   "id": "cbb26ff1",
   "metadata": {},
   "outputs": [
    {
     "name": "stdout",
     "output_type": "stream",
     "text": [
      "First Sentence:\n",
      " ['Record', 'date', ':', '2109-09-14', 'September', '14', ',', '2109', 'Vicente', 'Blair', ',', 'M.D', '.', 'Record', 'date', ':', '2108-03-14', 'CAMPBELL', 'EMERGENCY', 'DEPT', 'VISIT', 'VALDEZ', ',', 'HARLAN', ',', 'JR', '.', 'Record', 'date', ':', '2106-02-12', 'Campbell', 'Orthopedic', 'Associates', '4', 'Madera', 'Circle', 'Omak', ',', 'GA', '28172', 'Habib', 'Valenzuela', ',', 'M.D', '.']\n",
      "First Sentence Original Tags:\n",
      " ['O', 'O', 'O', 'B-DATE', 'I-b-date', 'B-DATE', 'I-b-date', 'B-DATE', 'B-DOCTOR', 'I-b-doctor', 'B-DATE', 'O', 'O', 'O', 'O', 'O', 'B-DATE', 'B-HOSPITAL', 'O', 'O', 'O', 'B-PATIENT', 'I-b-patient', 'B-PATIENT', 'I-b-patient', 'B-PATIENT', 'I-b-patient', 'O', 'O', 'O', 'B-DATE', 'B-HOSPITAL', 'O', 'O', 'B-STREET', 'I-b-street', 'B-STREET', 'B-CITY', 'O', 'B-STATE', 'B-ZIP', 'B-DOCTOR', 'I-b-doctor', 'O', 'O', 'O']\n",
      "First Sentence Encoded Tags:\n",
      "  [14, 14, 14, 16, 18, 16, 18, 16, 19, 20, 16, 14, 14, 14, 14, 14, 16, 10, 14, 14, 14, 17, 2, 17, 2, 17, 2, 14, 14, 14, 16, 10, 14, 14, 13, 1, 13, 15, 14, 8, 0, 19, 20, 14, 14, 14]\n",
      "Is length of Original Tags and Encoded Tags same:  True\n",
      "Length of Tags for First Sentence:  46\n"
     ]
    }
   ],
   "source": [
    "encoded_tags=[[tags_map[w] for w in tag] for tag in tags_list]\n",
    "print(\"First Sentence:\\n\",sentences_list[0])\n",
    "print('First Sentence Original Tags:\\n',tags_list[0])\n",
    "print(\"First Sentence Encoded Tags:\\n \",encoded_tags[0])\n",
    "print(\"Is length of Original Tags and Encoded Tags same: \",len(tags_list[0])==len(encoded_tags[0]))\n",
    "print(\"Length of Tags for First Sentence: \",len(encoded_tags[0]))"
   ]
  },
  {
   "cell_type": "code",
   "execution_count": 34,
   "id": "7911a8a3",
   "metadata": {},
   "outputs": [
    {
     "data": {
      "image/png": "[encoded data removed]",
      "text/plain": [
       "<Figure size 640x480 with 1 Axes>"
      ]
     },
     "metadata": {},
     "output_type": "display_data"
    }
   ],
   "source": [
    "plt.hist([len(sen) for sen in sentences_list], bins= 100)\n",
    "plt.show()"
   ]
  },
  {
   "cell_type": "code",
   "execution_count": 35,
   "id": "7a0cf4d5",
   "metadata": {},
   "outputs": [
    {
     "name": "stdout",
     "output_type": "stream",
     "text": [
      "137\n"
     ]
    }
   ],
   "source": [
    "max_sentence_length=max([len(s) for s in sentences_list])\n",
    "max_len = max_sentence_length\n",
    "print(max_sentence_length)"
   ]
  },
  {
   "cell_type": "code",
   "execution_count": 36,
   "id": "da337703",
   "metadata": {},
   "outputs": [
    {
     "data": {
      "text/plain": [
       "{'B-ZIP': 0,\n",
       " 'I-b-street': 1,\n",
       " 'I-b-patient': 2,\n",
       " 'B-MEDICALRECORD': 3,\n",
       " 'B-IDNUM': 4,\n",
       " 'I-b-idnum': 5,\n",
       " 'I-b-hospital': 6,\n",
       " 'I-b-profession': 7,\n",
       " 'B-STATE': 8,\n",
       " 'B-AGE': 9,\n",
       " 'B-HOSPITAL': 10,\n",
       " 'B-USERNAME': 11,\n",
       " 'B-ORGANIZATION': 12,\n",
       " 'B-STREET': 13,\n",
       " 'O': 14,\n",
       " 'B-CITY': 15,\n",
       " 'B-DATE': 16,\n",
       " 'B-PATIENT': 17,\n",
       " 'I-b-date': 18,\n",
       " 'B-DOCTOR': 19,\n",
       " 'I-b-doctor': 20,\n",
       " 'I-b-organization': 21,\n",
       " 'B-PROFESSION': 22}"
      ]
     },
     "execution_count": 36,
     "metadata": {},
     "output_type": "execute_result"
    }
   ],
   "source": [
    "tags_map"
   ]
  },
  {
   "cell_type": "code",
   "execution_count": 37,
   "id": "74907072",
   "metadata": {},
   "outputs": [],
   "source": [
    "max_len\n",
    "padded_encoded_sentences = pad_sequences(maxlen=max_len,sequences=encoded_sentence,padding=\"post\",value=0)"
   ]
  },
  {
   "cell_type": "code",
   "execution_count": 38,
   "id": "e9e8b7e9",
   "metadata": {},
   "outputs": [
    {
     "name": "stdout",
     "output_type": "stream",
     "text": [
      "Shape of Encoded Sentence:  (90, 137)\n",
      "Shape of Encoded Labels:  (90, 137)\n",
      "First Encoded Sentence Without Padding:\n",
      " [117, 118, 12, 349, 350, 351, 2, 352, 186, 353, 2, 35, 1, 117, 118, 12, 354, 355, 356, 357, 119, 187, 2, 358, 2, 359, 1, 117, 118, 12, 360, 361, 362, 363, 88, 364, 365, 120, 2, 188, 366, 121, 122, 2, 35, 1]\n",
      "First Encoded Sentence with padding:\n",
      " [117 118  12 349 350 351   2 352 186 353   2  35   1 117 118  12 354 355\n",
      " 356 357 119 187   2 358   2 359   1 117 118  12 360 361 362 363  88 364\n",
      " 365 120   2 188 366 121 122   2  35   1   0   0   0   0   0   0   0   0\n",
      "   0   0   0   0   0   0   0   0   0   0   0   0   0   0   0   0   0   0\n",
      "   0   0   0   0   0   0   0   0   0   0   0   0   0   0   0   0   0   0\n",
      "   0   0   0   0   0   0   0   0   0   0   0   0   0   0   0   0   0   0\n",
      "   0   0   0   0   0   0   0   0   0   0   0   0   0   0   0   0   0   0\n",
      "   0   0   0   0   0   0   0   0   0   0   0]\n",
      "First Sentence Encoded Label without Padding:\n",
      " [14, 14, 14, 16, 18, 16, 18, 16, 19, 20, 16, 14, 14, 14, 14, 14, 16, 10, 14, 14, 14, 17, 2, 17, 2, 17, 2, 14, 14, 14, 16, 10, 14, 14, 13, 1, 13, 15, 14, 8, 0, 19, 20, 14, 14, 14]\n",
      "First Sentence Encoded Label with Padding:\n",
      " [14 14 14 16 18 16 18 16 19 20 16 14 14 14 14 14 16 10 14 14 14 17  2 17\n",
      "  2 17  2 14 14 14 16 10 14 14 13  1 13 15 14  8  0 19 20 14 14 14  0  0\n",
      "  0  0  0  0  0  0  0  0  0  0  0  0  0  0  0  0  0  0  0  0  0  0  0  0\n",
      "  0  0  0  0  0  0  0  0  0  0  0  0  0  0  0  0  0  0  0  0  0  0  0  0\n",
      "  0  0  0  0  0  0  0  0  0  0  0  0  0  0  0  0  0  0  0  0  0  0  0  0\n",
      "  0  0  0  0  0  0  0  0  0  0  0  0  0  0  0  0  0]\n"
     ]
    }
   ],
   "source": [
    "padded_encoded_tags=pad_sequences(maxlen=max_len,sequences=encoded_tags,padding=\"post\",value=0)\n",
    "\n",
    "print(\"Shape of Encoded Sentence: \",padded_encoded_sentences.shape)\n",
    "print(\"Shape of Encoded Labels: \",padded_encoded_tags.shape)\n",
    "\n",
    "print(\"First Encoded Sentence Without Padding:\\n\",encoded_sentence[0])\n",
    "print(\"First Encoded Sentence with padding:\\n\",padded_encoded_sentences[0])\n",
    "print(\"First Sentence Encoded Label without Padding:\\n\",encoded_tags[0])\n",
    "print(\"First Sentence Encoded Label with Padding:\\n\",padded_encoded_tags[0])"
   ]
  },
  {
   "cell_type": "code",
   "execution_count": 39,
   "id": "4e726a28",
   "metadata": {},
   "outputs": [
    {
     "name": "stdout",
     "output_type": "stream",
     "text": [
      "Shape of Labels  after converting to Categorical for first sentence:  (137, 23)\n"
     ]
    }
   ],
   "source": [
    "target= [to_categorical(i,num_classes = num_tags) for i in  padded_encoded_tags]\n",
    "print(\"Shape of Labels  after converting to Categorical for first sentence: \",target[0].shape)"
   ]
  },
  {
   "cell_type": "markdown",
   "id": "78ed85d2",
   "metadata": {},
   "source": [
    "### Splitting The Data"
   ]
  },
  {
   "cell_type": "code",
   "execution_count": 40,
   "id": "55f9edaf",
   "metadata": {
    "scrolled": false
   },
   "outputs": [
    {
     "name": "stdout",
     "output_type": "stream",
     "text": [
      "Input Train Data Shape:  (72, 137)\n",
      "Train Labels Length:  72\n",
      "Input Test Data Shape:  (4, 137)\n",
      "Test Labels Length:  4\n",
      "Input Validation Data Shape:  (14, 137)\n",
      "Validation Labels Length:  14\n"
     ]
    }
   ],
   "source": [
    "X_train,X_val_test,y_train,y_val_test = train_test_split(padded_encoded_sentences,target,test_size = 0.2,random_state=False)\n",
    "X_val,X_test,y_val,y_test = train_test_split(X_val_test,y_val_test,test_size = 0.2,random_state=True)\n",
    "print(\"Input Train Data Shape: \",X_train.shape)\n",
    "print(\"Train Labels Length: \",len(y_train))\n",
    "print(\"Input Test Data Shape: \",X_test.shape)\n",
    "print(\"Test Labels Length: \",len(y_test))\n",
    "print(\"Input Validation Data Shape: \",X_val.shape)\n",
    "print(\"Validation Labels Length: \",len(y_val))"
   ]
  },
  {
   "cell_type": "code",
   "execution_count": 41,
   "id": "27b3387f",
   "metadata": {},
   "outputs": [
    {
     "name": "stdout",
     "output_type": "stream",
     "text": [
      "First Sentence in Training Data:  [ 16 177   4  44   3   4  23 109 827  24 828  18 829 235 328  32  47  48\n",
      " 830   4 831  10 832   8  62   7 833  18   7  54   1  16  30  45 326  91\n",
      "  41   2  32  21  26 104  20   4 265   3 343 142  73 834   1  16  26   4\n",
      "  44   3 287   6   7 835   1   0   0   0   0   0   0   0   0   0   0   0\n",
      "   0   0   0   0   0   0   0   0   0   0   0   0   0   0   0   0   0   0\n",
      "   0   0   0   0   0   0   0   0   0   0   0   0   0   0   0   0   0   0\n",
      "   0   0   0   0   0   0   0   0   0   0   0   0   0   0   0   0   0   0\n",
      "   0   0   0   0   0   0   0   0   0   0   0]\n",
      "First sentence Label:  [[0. 0. 0. ... 0. 0. 0.]\n",
      " [0. 0. 0. ... 0. 0. 0.]\n",
      " [0. 0. 0. ... 0. 0. 0.]\n",
      " ...\n",
      " [1. 0. 0. ... 0. 0. 0.]\n",
      " [1. 0. 0. ... 0. 0. 0.]\n",
      " [1. 0. 0. ... 0. 0. 0.]]\n",
      "Shape of First Sentence -Train:  (137,)\n",
      "Shape of First Sentence Label  -Train:  (137, 23)\n"
     ]
    }
   ],
   "source": [
    "print(\"First Sentence in Training Data: \",X_train[0])\n",
    "print(\"First sentence Label: \",y_train[0])\n",
    "print(\"Shape of First Sentence -Train: \",X_train[0].shape)\n",
    "print(\"Shape of First Sentence Label  -Train: \",y_train[0].shape)"
   ]
  },
  {
   "cell_type": "markdown",
   "id": "44b9d74e",
   "metadata": {},
   "source": [
    "### Training The Model"
   ]
  },
  {
   "cell_type": "code",
   "execution_count": 42,
   "id": "9d5fdb21",
   "metadata": {
    "scrolled": true
   },
   "outputs": [
    {
     "name": "stdout",
     "output_type": "stream",
     "text": [
      "Model: \"model\"\n",
      "_________________________________________________________________\n",
      " Layer (type)                Output Shape              Param #   \n",
      "=================================================================\n",
      " input_1 (InputLayer)        [(None, 137)]             0         \n",
      "                                                                 \n",
      " embedding (Embedding)       (None, 137, 137)          123437    \n",
      "                                                                 \n",
      " bidirectional (Bidirectiona  (None, 137, 274)         301400    \n",
      " l)                                                              \n",
      "                                                                 \n",
      " time_distributed (TimeDistr  (None, 137, 23)          6325      \n",
      " ibuted)                                                         \n",
      "                                                                 \n",
      "=================================================================\n",
      "Total params: 431,162\n",
      "Trainable params: 431,162\n",
      "Non-trainable params: 0\n",
      "_________________________________________________________________\n"
     ]
    }
   ],
   "source": [
    "embedding_dim = max_len\n",
    "vocab_size=len(tokeniser.word_index)+1\n",
    "#lstm_units = max_len\n",
    "max_len = 137\n",
    "\n",
    "input_word = Input(shape = (max_len,))\n",
    "model = Embedding(input_dim = vocab_size+1,output_dim = embedding_dim,input_length = max_len)(input_word)\n",
    "\n",
    "model = Bidirectional(LSTM(units=embedding_dim,return_sequences=True))(model)\n",
    "output = TimeDistributed(Dense(num_tags,activation = 'softmax'))(model)\n",
    "model = Model(input_word,output)\n",
    "model.summary()"
   ]
  },
  {
   "cell_type": "code",
   "execution_count": 43,
   "id": "12cdf339",
   "metadata": {},
   "outputs": [],
   "source": [
    "model.compile(optimizer = 'adam',loss = 'categorical_crossentropy',metrics = ['accuracy'])"
   ]
  },
  {
   "cell_type": "code",
   "execution_count": 44,
   "id": "82c82528",
   "metadata": {},
   "outputs": [
    {
     "data": {
      "image/png": "[encoded data removed]",
      "text/plain": [
       "<Figure size 1200x800 with 2 Axes>"
      ]
     },
     "metadata": {},
     "output_type": "display_data"
    },
    {
     "name": "stdout",
     "output_type": "stream",
     "text": [
      "accuracy\n",
      "\ttraining         \t (min:    0.448, max:    0.958, cur:    0.953)\n",
      "\tvalidation       \t (min:    0.752, max:    0.962, cur:    0.944)\n",
      "Loss\n",
      "\ttraining         \t (min:    0.202, max:    3.093, cur:    0.202)\n",
      "\tvalidation       \t (min:    0.262, max:    2.831, cur:    0.262)\n",
      "3/3 [==============================] - 1s 413ms/step - loss: 0.2024 - accuracy: 0.9529 - val_loss: 0.2624 - val_accuracy: 0.9437\n",
      "Epoch 12: early stopping\n",
      "Wall time: 17.1 s\n"
     ]
    }
   ],
   "source": [
    "%%time\n",
    "early_stopping = EarlyStopping(monitor='val_accuracy', min_delta=0, patience=10, verbose=2, mode='min', baseline=None, restore_best_weights=False)\n",
    "\n",
    "callbacks = [PlotLossesCallback(), early_stopping]\n",
    "history = model.fit(\n",
    "    X_train,\n",
    "    np.array(y_train),\n",
    "    validation_data=(X_val,np.array(y_val)),\n",
    "    batch_size = 32,\n",
    "    epochs = 500,\n",
    "    callbacks=callbacks,\n",
    "    verbose=1)"
   ]
  },
  {
   "cell_type": "markdown",
   "id": "f4fba9f0",
   "metadata": {},
   "source": [
    "### Evaluating The Model"
   ]
  },
  {
   "cell_type": "code",
   "execution_count": 45,
   "id": "aea166ca",
   "metadata": {
    "scrolled": true
   },
   "outputs": [
    {
     "name": "stdout",
     "output_type": "stream",
     "text": [
      "1/1 [==============================] - 1s 733ms/step\n"
     ]
    }
   ],
   "source": [
    "y_pred=model.predict(X_test) ## Predict using collins_medicalNER model on Test Data"
   ]
  },
  {
   "cell_type": "code",
   "execution_count": 46,
   "id": "7b1dfc21",
   "metadata": {},
   "outputs": [],
   "source": [
    "## Create a Pickle file using serialization \n",
    "#import pickle\n",
    "#pickle_out = open(\"model.pkl\",\"wb\")\n",
    "#pickle.dump(model, pickle_out)\n",
    "#pickle_out.close()"
   ]
  },
  {
   "cell_type": "code",
   "execution_count": 47,
   "id": "6e9211a2",
   "metadata": {},
   "outputs": [],
   "source": [
    "def collins_Predictionevaluation(test_data,preds,actual_preds):\n",
    "    #print(actual_preds)\n",
    "    #print(\"Shape of Test Data Array\",test_data.shape)\n",
    "    #print(\"Shape of Test Data Array\",preds)\n",
    "    y_actual=np.argmax(np.array(actual_preds),axis=2)\n",
    "    y_pred=np.argmax(preds,axis=2)\n",
    "    num_test_data=test_data.shape[0]\n",
    "    #print(\"Number of Test Data Points: \",num_test_data)\n",
    "    data=pd.DataFrame()\n",
    "    df_list=[]\n",
    "    for i in range(num_test_data):\n",
    "        test_str=list(test_data[i])\n",
    "        df=pd.DataFrame()\n",
    "        df['test_tokens']=test_str\n",
    "        df['tokens']=df['test_tokens'].apply(lambda x:tokeniser.index_word[x] if x!=0 else '<PAD>')\n",
    "        df['actual_target_index']=list(y_actual[i])\n",
    "        df['pred_target_index']=list(y_pred[i])\n",
    "        df['actual_target_tag']=df['actual_target_index'].apply(lambda x:reverse_tag_map[x])\n",
    "        df['pred_target_tag']=df['pred_target_index'].apply(lambda x:reverse_tag_map[x])\n",
    "        df['id']=i+1\n",
    "        df_list.append(df)\n",
    "    data=pd.concat(df_list)\n",
    "    pred_data=data[data['tokens']!='<PAD>']\n",
    "    accuracy=pred_data[pred_data['actual_target_tag']==pred_data['pred_target_tag']].shape[0]/pred_data.shape[0]\n",
    "    \n",
    "    \n",
    "    return pred_data,accuracy"
   ]
  },
  {
   "cell_type": "code",
   "execution_count": 48,
   "id": "dce2b043",
   "metadata": {},
   "outputs": [],
   "source": [
    "pred_data,accuracy = collins_Predictionevaluation(X_test,y_pred,y_test)"
   ]
  },
  {
   "cell_type": "code",
   "execution_count": 49,
   "id": "fe4ffae0",
   "metadata": {},
   "outputs": [],
   "source": [
    "y_pred=pred_data['pred_target_tag'].tolist()\n",
    "y_actual=pred_data['actual_target_tag'].tolist()"
   ]
  },
  {
   "cell_type": "code",
   "execution_count": 50,
   "id": "896564f7",
   "metadata": {},
   "outputs": [
    {
     "name": "stdout",
     "output_type": "stream",
     "text": [
      "              precision    recall  f1-score   support\n",
      "\n",
      "      B-DATE       0.00      0.00      0.00         5\n",
      "  B-HOSPITAL       0.00      0.00      0.00         2\n",
      "           O       0.92      1.00      0.96        82\n",
      "\n",
      "    accuracy                           0.92        89\n",
      "   macro avg       0.31      0.33      0.32        89\n",
      "weighted avg       0.85      0.92      0.88        89\n",
      "\n"
     ]
    }
   ],
   "source": [
    "print(classification_report(y_actual,y_pred))"
   ]
  },
  {
   "cell_type": "code",
   "execution_count": 51,
   "id": "f8a45780",
   "metadata": {
    "scrolled": true
   },
   "outputs": [
    {
     "data": {
      "text/html": [
       "<div>\n",
       "<style scoped>\n",
       "    .dataframe tbody tr th:only-of-type {\n",
       "        vertical-align: middle;\n",
       "    }\n",
       "\n",
       "    .dataframe tbody tr th {\n",
       "        vertical-align: top;\n",
       "    }\n",
       "\n",
       "    .dataframe thead th {\n",
       "        text-align: right;\n",
       "    }\n",
       "</style>\n",
       "<table border=\"1\" class=\"dataframe\">\n",
       "  <thead>\n",
       "    <tr style=\"text-align: right;\">\n",
       "      <th></th>\n",
       "      <th>test_tokens</th>\n",
       "      <th>tokens</th>\n",
       "      <th>actual_target_index</th>\n",
       "      <th>pred_target_index</th>\n",
       "      <th>actual_target_tag</th>\n",
       "      <th>pred_target_tag</th>\n",
       "      <th>id</th>\n",
       "    </tr>\n",
       "  </thead>\n",
       "  <tbody>\n",
       "    <tr>\n",
       "      <th>6</th>\n",
       "      <td>272</td>\n",
       "      <td>normal</td>\n",
       "      <td>14</td>\n",
       "      <td>14</td>\n",
       "      <td>O</td>\n",
       "      <td>O</td>\n",
       "      <td>4</td>\n",
       "    </tr>\n",
       "    <tr>\n",
       "      <th>7</th>\n",
       "      <td>710</td>\n",
       "      <td>based</td>\n",
       "      <td>14</td>\n",
       "      <td>14</td>\n",
       "      <td>O</td>\n",
       "      <td>O</td>\n",
       "      <td>4</td>\n",
       "    </tr>\n",
       "    <tr>\n",
       "      <th>8</th>\n",
       "      <td>2</td>\n",
       "      <td>,</td>\n",
       "      <td>16</td>\n",
       "      <td>14</td>\n",
       "      <td>B-DATE</td>\n",
       "      <td>O</td>\n",
       "      <td>4</td>\n",
       "    </tr>\n",
       "    <tr>\n",
       "      <th>9</th>\n",
       "      <td>142</td>\n",
       "      <td>without</td>\n",
       "      <td>14</td>\n",
       "      <td>14</td>\n",
       "      <td>O</td>\n",
       "      <td>O</td>\n",
       "      <td>4</td>\n",
       "    </tr>\n",
       "    <tr>\n",
       "      <th>10</th>\n",
       "      <td>42</td>\n",
       "      <td>evidence</td>\n",
       "      <td>14</td>\n",
       "      <td>14</td>\n",
       "      <td>O</td>\n",
       "      <td>O</td>\n",
       "      <td>4</td>\n",
       "    </tr>\n",
       "    <tr>\n",
       "      <th>11</th>\n",
       "      <td>3</td>\n",
       "      <td>of</td>\n",
       "      <td>14</td>\n",
       "      <td>14</td>\n",
       "      <td>O</td>\n",
       "      <td>O</td>\n",
       "      <td>4</td>\n",
       "    </tr>\n",
       "    <tr>\n",
       "      <th>12</th>\n",
       "      <td>73</td>\n",
       "      <td>significant</td>\n",
       "      <td>14</td>\n",
       "      <td>14</td>\n",
       "      <td>O</td>\n",
       "      <td>O</td>\n",
       "      <td>4</td>\n",
       "    </tr>\n",
       "    <tr>\n",
       "      <th>13</th>\n",
       "      <td>324</td>\n",
       "      <td>gait</td>\n",
       "      <td>14</td>\n",
       "      <td>14</td>\n",
       "      <td>O</td>\n",
       "      <td>O</td>\n",
       "      <td>4</td>\n",
       "    </tr>\n",
       "    <tr>\n",
       "      <th>14</th>\n",
       "      <td>323</td>\n",
       "      <td>dystaxias</td>\n",
       "      <td>14</td>\n",
       "      <td>14</td>\n",
       "      <td>O</td>\n",
       "      <td>O</td>\n",
       "      <td>4</td>\n",
       "    </tr>\n",
       "    <tr>\n",
       "      <th>15</th>\n",
       "      <td>1</td>\n",
       "      <td>.</td>\n",
       "      <td>14</td>\n",
       "      <td>14</td>\n",
       "      <td>O</td>\n",
       "      <td>O</td>\n",
       "      <td>4</td>\n",
       "    </tr>\n",
       "  </tbody>\n",
       "</table>\n",
       "</div>"
      ],
      "text/plain": [
       "    test_tokens       tokens  actual_target_index  pred_target_index  \\\n",
       "6           272       normal                   14                 14   \n",
       "7           710        based                   14                 14   \n",
       "8             2            ,                   16                 14   \n",
       "9           142      without                   14                 14   \n",
       "10           42     evidence                   14                 14   \n",
       "11            3           of                   14                 14   \n",
       "12           73  significant                   14                 14   \n",
       "13          324         gait                   14                 14   \n",
       "14          323    dystaxias                   14                 14   \n",
       "15            1            .                   14                 14   \n",
       "\n",
       "   actual_target_tag pred_target_tag  id  \n",
       "6                  O               O   4  \n",
       "7                  O               O   4  \n",
       "8             B-DATE               O   4  \n",
       "9                  O               O   4  \n",
       "10                 O               O   4  \n",
       "11                 O               O   4  \n",
       "12                 O               O   4  \n",
       "13                 O               O   4  \n",
       "14                 O               O   4  \n",
       "15                 O               O   4  "
      ]
     },
     "execution_count": 51,
     "metadata": {},
     "output_type": "execute_result"
    }
   ],
   "source": [
    "pred_data.tail(10)"
   ]
  },
  {
   "cell_type": "code",
   "execution_count": 52,
   "id": "5b029d1b",
   "metadata": {},
   "outputs": [
    {
     "name": "stdout",
     "output_type": "stream",
     "text": [
      "Accuracy for Collins_MedicalNER Model Test Sample is:  0.9213483146067416\n"
     ]
    }
   ],
   "source": [
    "print(\"Accuracy for Collins_MedicalNER Model Test Sample is: \", accuracy)"
   ]
  }
 ],
 "metadata": {
  "kernelspec": {
   "display_name": "Python 3 (ipykernel)",
   "language": "python",
   "name": "python3"
  },
  "language_info": {
   "codemirror_mode": {
    "name": "ipython",
    "version": 3
   },
   "file_extension": ".py",
   "mimetype": "text/x-python",
   "name": "python",
   "nbconvert_exporter": "python",
   "pygments_lexer": "ipython3",
   "version": "3.9.13"
  }
 },
 "nbformat": 4,
 "nbformat_minor": 5
}
